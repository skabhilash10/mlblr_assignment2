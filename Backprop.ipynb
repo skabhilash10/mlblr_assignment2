{
 "cells": [
  {
   "cell_type": "markdown",
   "metadata": {},
   "source": [
    "To generate the random values for the matrix \n"
   ]
  },
  {
   "cell_type": "code",
   "execution_count": 1,
   "metadata": {},
   "outputs": [],
   "source": [
    "import numpy as np \n"
   ]
  },
  {
   "cell_type": "code",
   "execution_count": 2,
   "metadata": {},
   "outputs": [],
   "source": [
    "x=[[1,0,1,0],[1,0,1,1],[0,1,0,1]]"
   ]
  },
  {
   "cell_type": "code",
   "execution_count": 3,
   "metadata": {},
   "outputs": [],
   "source": [
    "x=np.array(x)"
   ]
  },
  {
   "cell_type": "code",
   "execution_count": 4,
   "metadata": {},
   "outputs": [
    {
     "name": "stdout",
     "output_type": "stream",
     "text": [
      "[[1 0 1 0]\n",
      " [1 0 1 1]\n",
      " [0 1 0 1]]\n"
     ]
    }
   ],
   "source": [
    "print(x)"
   ]
  },
  {
   "cell_type": "code",
   "execution_count": 5,
   "metadata": {},
   "outputs": [],
   "source": [
    "wh=np.random.rand(4,3)"
   ]
  },
  {
   "cell_type": "code",
   "execution_count": 6,
   "metadata": {},
   "outputs": [
    {
     "name": "stdout",
     "output_type": "stream",
     "text": [
      "[[0.23766254 0.8780987  0.32631984]\n",
      " [0.7529796  0.32338666 0.17733758]\n",
      " [0.66168082 0.74376316 0.04542648]\n",
      " [0.53296524 0.81355506 0.54935033]]\n"
     ]
    }
   ],
   "source": [
    "print(wh)"
   ]
  },
  {
   "cell_type": "code",
   "execution_count": 7,
   "metadata": {},
   "outputs": [],
   "source": [
    "bh=np.random.rand(1,3)"
   ]
  },
  {
   "cell_type": "code",
   "execution_count": 8,
   "metadata": {},
   "outputs": [
    {
     "name": "stdout",
     "output_type": "stream",
     "text": [
      "[[0.11961813 0.56674109 0.82963095]]\n"
     ]
    }
   ],
   "source": [
    "print(bh)"
   ]
  },
  {
   "cell_type": "code",
   "execution_count": 10,
   "metadata": {},
   "outputs": [],
   "source": [
    "hidden_layer_input=(np.dot(x,wh))+bh"
   ]
  },
  {
   "cell_type": "code",
   "execution_count": 11,
   "metadata": {},
   "outputs": [
    {
     "name": "stdout",
     "output_type": "stream",
     "text": [
      "[[1.01896149 2.18860295 1.20137727]\n",
      " [1.55192673 3.00215801 1.7507276 ]\n",
      " [1.40556297 1.70368281 1.55631886]]\n"
     ]
    }
   ],
   "source": [
    "print(hidden_layer_input)"
   ]
  },
  {
   "cell_type": "code",
   "execution_count": 12,
   "metadata": {},
   "outputs": [],
   "source": [
    "def sigmoid (hidden_layer_input): return 1/(1 + np.exp(-hidden_layer_input))  "
   ]
  },
  {
   "cell_type": "code",
   "execution_count": 13,
   "metadata": {},
   "outputs": [],
   "source": [
    "hiddenlayer_activations=sigmoid(hidden_layer_input)"
   ]
  },
  {
   "cell_type": "code",
   "execution_count": 14,
   "metadata": {},
   "outputs": [
    {
     "name": "stdout",
     "output_type": "stream",
     "text": [
      "[[0.73477026 0.89922137 0.7687697 ]\n",
      " [0.82519184 0.95267152 0.85204455]\n",
      " [0.80306516 0.84601512 0.8258245 ]]\n"
     ]
    }
   ],
   "source": [
    "print(hiddenlayer_activations)"
   ]
  },
  {
   "cell_type": "code",
   "execution_count": 15,
   "metadata": {},
   "outputs": [],
   "source": [
    "wout=np.random.rand(3,1)"
   ]
  },
  {
   "cell_type": "code",
   "execution_count": 16,
   "metadata": {},
   "outputs": [
    {
     "name": "stdout",
     "output_type": "stream",
     "text": [
      "[[0.99188552]\n",
      " [0.52117685]\n",
      " [0.85179651]]\n"
     ]
    }
   ],
   "source": [
    "print(wout)"
   ]
  },
  {
   "cell_type": "code",
   "execution_count": 17,
   "metadata": {},
   "outputs": [],
   "source": [
    "bout=np.random.rand(1,1)"
   ]
  },
  {
   "cell_type": "code",
   "execution_count": 18,
   "metadata": {},
   "outputs": [
    {
     "name": "stdout",
     "output_type": "stream",
     "text": [
      "[[0.6605259]]\n"
     ]
    }
   ],
   "source": [
    "print(bout)"
   ]
  },
  {
   "cell_type": "markdown",
   "metadata": {},
   "source": [
    "output_layer_input = matrix_dot_product (hiddenlayer_activations * wout ) + bout output = sigmoid(output_layer_input)"
   ]
  },
  {
   "cell_type": "code",
   "execution_count": 19,
   "metadata": {},
   "outputs": [],
   "source": [
    "output_layer=np.dot(hiddenlayer_activations,wout)+bout"
   ]
  },
  {
   "cell_type": "code",
   "execution_count": 20,
   "metadata": {},
   "outputs": [],
   "source": [
    "output_layer_input=sigmoid(output_layer)"
   ]
  },
  {
   "cell_type": "code",
   "execution_count": 21,
   "metadata": {},
   "outputs": [
    {
     "name": "stdout",
     "output_type": "stream",
     "text": [
      "[[0.92503586]\n",
      " [0.93710335]\n",
      " [0.93095372]]\n"
     ]
    }
   ],
   "source": [
    "print(output_layer_input)"
   ]
  },
  {
   "cell_type": "code",
   "execution_count": 30,
   "metadata": {},
   "outputs": [],
   "source": [
    "y=[[1],[1],[0]]"
   ]
  },
  {
   "cell_type": "code",
   "execution_count": 31,
   "metadata": {},
   "outputs": [],
   "source": [
    "y=np.array(y)"
   ]
  },
  {
   "cell_type": "code",
   "execution_count": 32,
   "metadata": {},
   "outputs": [],
   "source": [
    "E=y-output_layer_input"
   ]
  },
  {
   "cell_type": "code",
   "execution_count": 33,
   "metadata": {},
   "outputs": [
    {
     "name": "stdout",
     "output_type": "stream",
     "text": [
      "[[ 0.07496414]\n",
      " [ 0.06289665]\n",
      " [-0.93095372]]\n"
     ]
    }
   ],
   "source": [
    "print(E)"
   ]
  },
  {
   "cell_type": "code",
   "execution_count": 34,
   "metadata": {},
   "outputs": [],
   "source": [
    "def sigmoid_(x): return x * (1 - x)             # derivative of sigmoid\n"
   ]
  },
  {
   "cell_type": "code",
   "execution_count": 39,
   "metadata": {},
   "outputs": [],
   "source": [
    "slope_output_layer=sigmoid_(E)"
   ]
  },
  {
   "cell_type": "code",
   "execution_count": 40,
   "metadata": {},
   "outputs": [
    {
     "name": "stdout",
     "output_type": "stream",
     "text": [
      "[[ 0.06934452]\n",
      " [ 0.05894066]\n",
      " [-1.79762854]]\n"
     ]
    }
   ],
   "source": [
    "print(slope_output_layer)"
   ]
  },
  {
   "cell_type": "code",
   "execution_count": 41,
   "metadata": {},
   "outputs": [],
   "source": [
    "slope_hidden_layer=sigmoid_(hiddenlayer_activations)"
   ]
  },
  {
   "cell_type": "code",
   "execution_count": 42,
   "metadata": {},
   "outputs": [
    {
     "name": "stdout",
     "output_type": "stream",
     "text": [
      "[[0.19488292 0.09062229 0.17776285]\n",
      " [0.14425027 0.04508849 0.12606464]\n",
      " [0.15815151 0.13027354 0.1438384 ]]\n"
     ]
    }
   ],
   "source": [
    "print(slope_hidden_layer)"
   ]
  },
  {
   "cell_type": "code",
   "execution_count": 45,
   "metadata": {},
   "outputs": [],
   "source": [
    "d_output = E * slope_output_layer*0.1"
   ]
  },
  {
   "cell_type": "code",
   "execution_count": 46,
   "metadata": {},
   "outputs": [
    {
     "name": "stdout",
     "output_type": "stream",
     "text": [
      "[[0.00051984]\n",
      " [0.00037072]\n",
      " [0.1673509 ]]\n"
     ]
    }
   ],
   "source": [
    "print(d_output)"
   ]
  },
  {
   "cell_type": "code",
   "execution_count": 50,
   "metadata": {},
   "outputs": [],
   "source": [
    "Error_at_hidden_layer=np.dot(d_output,np.transpose(wout))"
   ]
  },
  {
   "cell_type": "code",
   "execution_count": 51,
   "metadata": {},
   "outputs": [
    {
     "name": "stdout",
     "output_type": "stream",
     "text": [
      "[[0.00051562 0.00027093 0.00044279]\n",
      " [0.00036771 0.00019321 0.00031578]\n",
      " [0.16599293 0.08721941 0.14254891]]\n"
     ]
    }
   ],
   "source": [
    "print(Error_at_hidden_layer)"
   ]
  },
  {
   "cell_type": "code",
   "execution_count": 54,
   "metadata": {},
   "outputs": [
    {
     "name": "stdout",
     "output_type": "stream",
     "text": [
      "[[2.09594640e-04 1.16626373e-04 1.89502516e-04]\n",
      " [1.49471013e-04 8.31713167e-05 1.35142450e-04]\n",
      " [6.74749366e-02 3.75456030e-02 6.10066664e-02]]\n"
     ]
    }
   ],
   "source": [
    "d_hiddenlayer= np.dot(Error_at_hidden_layer ,slope_hidden_layer)\n",
    "print(d_hiddenlayer)\n"
   ]
  },
  {
   "cell_type": "markdown",
   "metadata": {},
   "source": [
    "wout = wout + matrix_dot_product (hiddenlayer_activations.Transpose, d_output) * learning_rate\n",
    "wh = wh+ matrix_dot_product (X.Transpose,d_hiddenlayer) * learning_rate"
   ]
  },
  {
   "cell_type": "code",
   "execution_count": 55,
   "metadata": {},
   "outputs": [
    {
     "name": "stdout",
     "output_type": "stream",
     "text": [
      "[[1.00539368]\n",
      " [0.53541705]\n",
      " [0.86568831]]\n"
     ]
    }
   ],
   "source": [
    "wout_updated=wout + np.dot(np.transpose(hiddenlayer_activations), d_output) * 0.1\n",
    "print(wout_updated)"
   ]
  },
  {
   "cell_type": "code",
   "execution_count": 56,
   "metadata": {},
   "outputs": [
    {
     "name": "stdout",
     "output_type": "stream",
     "text": [
      "[[0.23767789 0.87810202 0.32633169]\n",
      " [0.75560481 0.3245229  0.17938798]\n",
      " [0.66169617 0.74376649 0.04543833]\n",
      " [0.53559574 0.81469217 0.55140471]]\n"
     ]
    }
   ],
   "source": [
    "wh_updated=wh+np.dot(np.transpose(x),d_hiddenlayer)*0.1\n",
    "print(wh_updated)"
   ]
  },
  {
   "cell_type": "markdown",
   "metadata": {},
   "source": [
    "bh = bh + sum(d_hiddenlayer, axis=0) * learning_rate\n",
    "bout = bout + sum(d_output, axis=0)*learning_rate"
   ]
  },
  {
   "cell_type": "code",
   "execution_count": 59,
   "metadata": {},
   "outputs": [
    {
     "name": "stdout",
     "output_type": "stream",
     "text": [
      "[[0.11962818 0.56674355 0.82963882]\n",
      " [0.11962344 0.56674196 0.82963493]\n",
      " [0.12224334 0.56787733 0.83168135]]\n"
     ]
    }
   ],
   "source": [
    "bh_updated= bh + (d_hiddenlayer) * 0.1\n",
    "print(bh_updated)"
   ]
  },
  {
   "cell_type": "code",
   "execution_count": 60,
   "metadata": {},
   "outputs": [
    {
     "name": "stdout",
     "output_type": "stream",
     "text": [
      "[[0.66057788]\n",
      " [0.66056297]\n",
      " [0.67726099]]\n"
     ]
    }
   ],
   "source": [
    "bout_updated = bout + (d_output)*0.1\n",
    "print(bout_updated)"
   ]
  },
  {
   "cell_type": "code",
   "execution_count": null,
   "metadata": {},
   "outputs": [],
   "source": []
  }
 ],
 "metadata": {
  "kernelspec": {
   "display_name": "Python 3",
   "language": "python",
   "name": "python3"
  },
  "language_info": {
   "codemirror_mode": {
    "name": "ipython",
    "version": 3
   },
   "file_extension": ".py",
   "mimetype": "text/x-python",
   "name": "python",
   "nbconvert_exporter": "python",
   "pygments_lexer": "ipython3",
   "version": "3.5.0"
  }
 },
 "nbformat": 4,
 "nbformat_minor": 2
}
